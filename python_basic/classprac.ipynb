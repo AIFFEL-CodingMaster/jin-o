{
 "cells": [
  {
   "cell_type": "code",
   "execution_count": null,
   "metadata": {},
   "outputs": [],
   "source": [
    "import random"
   ]
  },
  {
   "cell_type": "code",
   "execution_count": 2,
   "metadata": {},
   "outputs": [],
   "source": [
    "class Pitching:\n",
    "    #level = ['초급','중급','고급']\n",
    "    kinds = ['직구','변화구']\n",
    "    call = ['볼','스트라이크','파울','아웃']\n",
    "    teams = ['SK', 'KIA', 'SAM']\n",
    "    \n",
    "    def __init__(self, player, com): # 난이도 추가\n",
    "        self.player = player\n",
    "        self.com = com\n",
    "        li = random.sample(teams,2)\n",
    "        if player in teams:\n",
    "            self.player = player\n",
    "        else:\n",
    "            print('wrong input, please try again')\n",
    "            \n",
    "    def playball(self)\n",
    "        \n",
    "    "
   ]
  },
  {
   "cell_type": "code",
   "execution_count": null,
   "metadata": {},
   "outputs": [],
   "source": []
  }
 ],
 "metadata": {
  "kernelspec": {
   "display_name": "Python 3",
   "language": "python",
   "name": "python3"
  },
  "language_info": {
   "codemirror_mode": {
    "name": "ipython",
    "version": 3
   },
   "file_extension": ".py",
   "mimetype": "text/x-python",
   "name": "python",
   "nbconvert_exporter": "python",
   "pygments_lexer": "ipython3",
   "version": "3.7.9"
  }
 },
 "nbformat": 4,
 "nbformat_minor": 4
}
