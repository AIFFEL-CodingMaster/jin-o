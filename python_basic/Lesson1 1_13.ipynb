{
 "cells": [
  {
   "cell_type": "markdown",
   "metadata": {},
   "source": [
    "* 개인 프로필로 변수 만들어보기"
   ]
  },
  {
   "cell_type": "code",
   "execution_count": 4,
   "metadata": {},
   "outputs": [
    {
     "name": "stdout",
     "output_type": "stream",
     "text": [
      "김진오 \n",
      " Kim Jin O \n",
      " 0000-0000-0000\n",
      "김진오 \t Kim Jin O \t 0000-0000-0000\n"
     ]
    }
   ],
   "source": [
    "name = '김진오'\n",
    "eng_name = 'Kim Jin O'\n",
    "phone_number = '0000-0000-0000'\n",
    "\n",
    "# 한줄 띄고 출력\n",
    "print(name,'\\n',eng_name,'\\n',phone_number)\n",
    "# tap 출력\n",
    "print(name,'\\t',eng_name,'\\t',phone_number)"
   ]
  },
  {
   "cell_type": "markdown",
   "metadata": {},
   "source": [
    "* 숫자"
   ]
  },
  {
   "cell_type": "code",
   "execution_count": 5,
   "metadata": {},
   "outputs": [
    {
     "name": "stdout",
     "output_type": "stream",
     "text": [
      "<class 'int'>\n",
      "<class 'float'>\n"
     ]
    }
   ],
   "source": [
    "num1 = 1\n",
    "num2 = 1.0\n",
    "print(type(num1))\n",
    "print(type(num2))"
   ]
  },
  {
   "cell_type": "markdown",
   "metadata": {},
   "source": [
    "* 문자"
   ]
  },
  {
   "cell_type": "code",
   "execution_count": 9,
   "metadata": {},
   "outputs": [
    {
     "name": "stdout",
     "output_type": "stream",
     "text": [
      "1\n",
      "<class 'int'>\n",
      "1\n",
      "<class 'str'>\n",
      "<class 'str'>\n",
      "<class 'str'>\n"
     ]
    }
   ],
   "source": [
    "str1 = '가나다'\n",
    "str2 = 'asdc'\n",
    "str3 = '가나다as다'\n",
    "str4 = '@!@!asddf233' # \" \"씌워진건 문자열\n",
    "\n",
    "print(1)\n",
    "print(type(1))\n",
    "print('1')\n",
    "print(type('1'))\n",
    "print(type(str1))\n",
    "print(type(str2))"
   ]
  },
  {
   "cell_type": "code",
   "execution_count": 12,
   "metadata": {},
   "outputs": [
    {
     "name": "stdout",
     "output_type": "stream",
     "text": [
      "abcdefef\n",
      "abcd efef asda\n"
     ]
    }
   ],
   "source": [
    "# 한 줄 출력\n",
    "print('abcd', end=\"\")\n",
    "print('efef')\n",
    "# 한 칸 띄우고 출력\n",
    "print('abcd', end=\" \")\n",
    "print('efef', end = \" \")\n",
    "print('asda')"
   ]
  },
  {
   "cell_type": "markdown",
   "metadata": {},
   "source": [
    "* 숫자 반올림"
   ]
  },
  {
   "cell_type": "code",
   "execution_count": 13,
   "metadata": {},
   "outputs": [
    {
     "name": "stdout",
     "output_type": "stream",
     "text": [
      "1.12\n",
      "1.123\n",
      "3.14\n"
     ]
    }
   ],
   "source": [
    "# 2자리 -3번째 자리에서 반올림\n",
    "print(\"%.2f\" %1.12345678)\n",
    "# 3자리 -4번째 자리에서 반올림\n",
    "print(\"%.3f\" %1.123456)\n",
    "# 변수명으로 넣기가능\n",
    "pi = 3.141592\n",
    "print(\"%.2f\" %pi)"
   ]
  },
  {
   "cell_type": "markdown",
   "metadata": {},
   "source": [
    "* 문자 고급출력"
   ]
  },
  {
   "cell_type": "code",
   "execution_count": 14,
   "metadata": {},
   "outputs": [
    {
     "name": "stdout",
     "output_type": "stream",
     "text": [
      "나는 10시에 집에 간다\n",
      "나는 10시에 집에 간다\n",
      "나는 10시에 집에 간다\n"
     ]
    }
   ],
   "source": [
    "when = 10\n",
    "where = '집'\n",
    "print('나는 %d시에 %s에 간다'%(when, where)) # %d:digi %s:string\n",
    "print('나는 {}시에 {}에 간다'.format(when, where)) # {}안에 format(변수)를 출력\n",
    "print(f'나는 {when}시에 {where}에 간다') # {변수출력} - **짧아서 가장편리**"
   ]
  },
  {
   "cell_type": "code",
   "execution_count": 17,
   "metadata": {},
   "outputs": [
    {
     "name": "stdout",
     "output_type": "stream",
     "text": [
      "나는 5에 수업이 끝나면 ['corona']때문에 ['home']에  갈 것이다\n"
     ]
    }
   ],
   "source": [
    "# f\"\"을 사용해서 출력해보기\n",
    "when = 5\n",
    "where = ['home']\n",
    "why = ['corona']\n",
    "print(f\"나는 {when}에 수업이 끝나면 {why}때문에 {where}에  갈 것이다\")"
   ]
  },
  {
   "cell_type": "markdown",
   "metadata": {},
   "source": [
    "* 산술연산자(Operator, 사칙연산+@)"
   ]
  },
  {
   "cell_type": "code",
   "execution_count": 19,
   "metadata": {},
   "outputs": [
    {
     "name": "stdout",
     "output_type": "stream",
     "text": [
      "12\n",
      "8\n",
      "20\n",
      "5.0\n"
     ]
    }
   ],
   "source": [
    "a=10\n",
    "b=2\n",
    "print(a+b)\n",
    "print(a-b)\n",
    "print(a*b)\n",
    "print(a/b) # /결과는 float"
   ]
  },
  {
   "cell_type": "code",
   "execution_count": 25,
   "metadata": {},
   "outputs": [
    {
     "name": "stdout",
     "output_type": "stream",
     "text": [
      "0\n"
     ]
    }
   ],
   "source": [
    "# % : 나머지를 구하는 것\n",
    "print(a%b)\n",
    "# if a % 2 == 0: \n",
    "# if a % 2 != 0: "
   ]
  },
  {
   "cell_type": "code",
   "execution_count": 26,
   "metadata": {},
   "outputs": [
    {
     "name": "stdout",
     "output_type": "stream",
     "text": [
      "5\n"
     ]
    }
   ],
   "source": [
    "# // : 나눈 몫 구하기\n",
    "print(a//b)"
   ]
  },
  {
   "cell_type": "markdown",
   "metadata": {},
   "source": [
    "* 변수와 산술연산자와 출력을 이용해서 구구단 만들기"
   ]
  },
  {
   "cell_type": "code",
   "execution_count": 28,
   "metadata": {},
   "outputs": [
    {
     "name": "stdout",
     "output_type": "stream",
     "text": [
      "2\n",
      "2단\n",
      "2 x 1 = 2\n",
      "2 x 2 = 4\n",
      "2 x 3 = 6\n",
      "2 x 4 = 8\n",
      "2 x 5 = 10\n",
      "2 x 6 = 12\n",
      "2 x 7 = 14\n",
      "2 x 8 = 16\n",
      "2 x 9 = 18\n"
     ]
    }
   ],
   "source": [
    "num = int(input())\n",
    "\n",
    "print(f\"{num}단\")\n",
    "print(f\"{num} x 1 = {num*1}\")\n",
    "print(f\"{num} x 2 = {num*2}\")\n",
    "print(f\"{num} x 3 = {num*3}\")\n",
    "print(f\"{num} x 4 = {num*4}\")\n",
    "print(f\"{num} x 5 = {num*5}\")\n",
    "print(f\"{num} x 6 = {num*6}\")\n",
    "print(f\"{num} x 7 = {num*7}\")\n",
    "print(f\"{num} x 8 = {num*8}\")\n",
    "print(f\"{num} x 9 = {num*9}\")"
   ]
  },
  {
   "cell_type": "markdown",
   "metadata": {},
   "source": [
    "* set  \n",
    "내 스타일로 정의하는 set - 어떤 객체던 중복없이 담을 수 있는 통"
   ]
  },
  {
   "cell_type": "code",
   "execution_count": 39,
   "metadata": {},
   "outputs": [
    {
     "name": "stdout",
     "output_type": "stream",
     "text": [
      "{1, 2, 3}\n"
     ]
    },
    {
     "data": {
      "text/plain": [
       "{1, 2, 3, 4}"
      ]
     },
     "execution_count": 39,
     "metadata": {},
     "output_type": "execute_result"
    }
   ],
   "source": [
    "set_a = {1,1,2,2,3,3}\n",
    "print(set_a)\n",
    "\n",
    "# set에서 추가적으로 담는 법\n",
    "set_a.add(4)\n",
    "set_a\n",
    "# # set에서 빼는 법\n",
    "# set_a = set_a -{2,3}\n",
    "# print(set_a)"
   ]
  },
  {
   "cell_type": "markdown",
   "metadata": {},
   "source": [
    "* tuple  \n",
    "아무거나 담을수 있고, +로 추가가능하지만 .. 빼는 것은 안된다."
   ]
  },
  {
   "cell_type": "markdown",
   "metadata": {},
   "source": [
    "* 문자열을 비롯한 다른 datatype도 비교가능"
   ]
  },
  {
   "cell_type": "code",
   "execution_count": 40,
   "metadata": {},
   "outputs": [
    {
     "name": "stdout",
     "output_type": "stream",
     "text": [
      "True\n",
      "True\n"
     ]
    }
   ],
   "source": [
    "print('a'=='a')\n",
    "print(['^오^']!='이것은문자열')"
   ]
  },
  {
   "cell_type": "markdown",
   "metadata": {},
   "source": [
    "* is 비교  \n",
    "== 단순히 값만 비교  \n",
    "is 는 객체를 비교  \n",
    "객체비교: 우리가 만드는 코드(객체)는 메모리 어딘가에 저장, 메모리의 유일한 주소값을 비교"
   ]
  },
  {
   "cell_type": "code",
   "execution_count": 41,
   "metadata": {},
   "outputs": [
    {
     "name": "stdout",
     "output_type": "stream",
     "text": [
      "140082574552912\n",
      "94010172755808\n",
      "140082583656592\n"
     ]
    }
   ],
   "source": [
    "a = [1,2,3]\n",
    "b = 100\n",
    "c = 100.0\n",
    "\n",
    "# 메모리 주소값 찾는법 : id()\n",
    "print(id(a))\n",
    "print(id(b))\n",
    "print(id(c))"
   ]
  },
  {
   "cell_type": "code",
   "execution_count": 42,
   "metadata": {},
   "outputs": [
    {
     "data": {
      "text/plain": [
       "True"
      ]
     },
     "execution_count": 42,
     "metadata": {},
     "output_type": "execute_result"
    }
   ],
   "source": [
    "c = 100\n",
    "e = c\n",
    "c is e"
   ]
  },
  {
   "cell_type": "markdown",
   "metadata": {},
   "source": [
    "* 논리 연산자 (and, or, not)"
   ]
  },
  {
   "cell_type": "code",
   "execution_count": 44,
   "metadata": {},
   "outputs": [
    {
     "data": {
      "text/plain": [
       "False"
      ]
     },
     "execution_count": 44,
     "metadata": {},
     "output_type": "execute_result"
    }
   ],
   "source": [
    "a=10\n",
    "b=10\n",
    "# a와b 둘다 10과 같은가\n",
    "(a and b) == 10\n"
   ]
  },
  {
   "cell_type": "code",
   "execution_count": 45,
   "metadata": {},
   "outputs": [
    {
     "data": {
      "text/plain": [
       "False"
      ]
     },
     "execution_count": 45,
     "metadata": {},
     "output_type": "execute_result"
    }
   ],
   "source": [
    "# a와b 둘다 11과 같은가\n",
    "(a and b) == 11"
   ]
  },
  {
   "cell_type": "code",
   "execution_count": 46,
   "metadata": {},
   "outputs": [
    {
     "data": {
      "text/plain": [
       "True"
      ]
     },
     "execution_count": 46,
     "metadata": {},
     "output_type": "execute_result"
    }
   ],
   "source": [
    "c = 100\n",
    "d = 1000\n",
    "(c or d) == 100"
   ]
  },
  {
   "cell_type": "code",
   "execution_count": 47,
   "metadata": {},
   "outputs": [
    {
     "data": {
      "text/plain": [
       "False"
      ]
     },
     "execution_count": 47,
     "metadata": {},
     "output_type": "execute_result"
    }
   ],
   "source": [
    "(c or d) == 10"
   ]
  },
  {
   "cell_type": "markdown",
   "metadata": {},
   "source": [
    "* 조건문 - 조건이 맞지 않으면 실행안됨\n",
    "* if elif에서 둘다 맞으면 처음 if문만 실행됨"
   ]
  },
  {
   "cell_type": "code",
   "execution_count": 49,
   "metadata": {},
   "outputs": [],
   "source": [
    "list_2 = ['A','B','C']"
   ]
  },
  {
   "cell_type": "code",
   "execution_count": 50,
   "metadata": {},
   "outputs": [
    {
     "name": "stdout",
     "output_type": "stream",
     "text": [
      "list_2안에 A가 있으니까 실행\n",
      "list_2는 A B C 뿐\n"
     ]
    }
   ],
   "source": [
    "if 'A' in list_2:\n",
    "    print('list_2안에 A가 있으니까 실행')\n",
    "if 'D' not in list_2:\n",
    "    print('list_2는 A B C 뿐')"
   ]
  },
  {
   "cell_type": "code",
   "execution_count": 53,
   "metadata": {},
   "outputs": [
    {
     "name": "stdout",
     "output_type": "stream",
     "text": [
      "list_3: [1, 2, 3, 4, 5, 6, 7, 8, 9]\n"
     ]
    }
   ],
   "source": [
    "# 조건문이 실행되게 만들어보기\n",
    "list_3 = [1,2,3,4,5,6,7,8,9]\n",
    "if len(list_3) <10:         # len() 길이 측정 함수\n",
    "    print('list_3:',list_3)"
   ]
  },
  {
   "cell_type": "code",
   "execution_count": 54,
   "metadata": {},
   "outputs": [
    {
     "name": "stdout",
     "output_type": "stream",
     "text": [
      "type of a:set\n"
     ]
    }
   ],
   "source": [
    "# a의 type이 set이면 조건문 실행\n",
    "a = {1,2,3}\n",
    "if type(a) == set:\n",
    "    print('type of a:set')"
   ]
  },
  {
   "cell_type": "markdown",
   "metadata": {},
   "source": [
    "* 반복문  \n",
    "while: 조건을 만족하면 반복문 실행  \n",
    "while문 사용시 조건을 계속만족하면 무한루프 조심"
   ]
  },
  {
   "cell_type": "code",
   "execution_count": 55,
   "metadata": {},
   "outputs": [
    {
     "name": "stdout",
     "output_type": "stream",
     "text": [
      "break!\n"
     ]
    }
   ],
   "source": [
    "# 강제로 끝내기\n",
    "n =10\n",
    "while n>0:\n",
    "    print('break!')\n",
    "    break"
   ]
  },
  {
   "cell_type": "code",
   "execution_count": null,
   "metadata": {},
   "outputs": [],
   "source": []
  }
 ],
 "metadata": {
  "kernelspec": {
   "display_name": "Python 3",
   "language": "python",
   "name": "python3"
  },
  "language_info": {
   "codemirror_mode": {
    "name": "ipython",
    "version": 3
   },
   "file_extension": ".py",
   "mimetype": "text/x-python",
   "name": "python",
   "nbconvert_exporter": "python",
   "pygments_lexer": "ipython3",
   "version": "3.7.6"
  }
 },
 "nbformat": 4,
 "nbformat_minor": 4
}
